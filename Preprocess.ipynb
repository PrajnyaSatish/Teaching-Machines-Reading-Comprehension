{
 "cells": [
  {
   "cell_type": "code",
   "execution_count": 2,
   "metadata": {},
   "outputs": [],
   "source": [
    "import json\n",
    "import nltk\n",
    "with open('data/SciQ/train.json', 'r') as rf:\n",
    "    train = json.load(rf)"
   ]
  },
  {
   "cell_type": "code",
   "execution_count": 3,
   "metadata": {},
   "outputs": [
    {
     "data": {
      "text/plain": [
       "{'correct_answer': 'mesophilic organisms',\n",
       " 'distractor1': 'protozoa',\n",
       " 'distractor2': 'gymnosperms',\n",
       " 'distractor3': 'viruses',\n",
       " 'question': 'What type of organism is commonly used in preparation of foods such as cheese and yogurt?',\n",
       " 'support': 'Mesophiles grow best in moderate temperature, typically between 25°C and 40°C (77°F and 104°F). Mesophiles are often found living in or on the bodies of humans or other animals. The optimal growth temperature of many pathogenic mesophiles is 37°C (98°F), the normal human body temperature. Mesophilic organisms have important uses in food preparation, including cheese, yogurt, beer and wine.'}"
      ]
     },
     "execution_count": 3,
     "metadata": {},
     "output_type": "execute_result"
    }
   ],
   "source": [
    "train[0]"
   ]
  },
  {
   "cell_type": "code",
   "execution_count": 4,
   "metadata": {},
   "outputs": [],
   "source": [
    "def tokenize(sequence):\n",
    "    tokens = [token.replace(\"``\", '\"').replace(\"''\", '\"') for token in nltk.word_tokenize(sequence)]\n",
    "    return map(lambda x:x.encode('utf8'), tokens)"
   ]
  },
  {
   "cell_type": "code",
   "execution_count": 5,
   "metadata": {},
   "outputs": [],
   "source": [
    "for index in range (len(train)):\n",
    "    supportTokens = tokenize(train[index]['support'])\n",
    "    questionTokens = tokenize(train[index]['question'])\n",
    "    distractor1Tokens = tokenize(train[index]['distractor1'])\n",
    "    distractor2Tokens = tokenize(train[index]['distractor2'])\n",
    "    distractor3Tokens = tokenize(train[index]['distractor3'])\n",
    "    answerTokens = tokenize(train[index]['correct_answer'])"
   ]
  },
  {
   "cell_type": "code",
   "execution_count": 6,
   "metadata": {},
   "outputs": [],
   "source": [
    "def read_dataset(dataset, tier, vocab):\n",
    "    support_data = []\n",
    "    question_data = []\n",
    "\n",
    "    for index in range (len(train)):\n",
    "        supportTokens = tokenize(train[index]['support'])\n",
    "        questionTokens = tokenize(train[index]['question'])\n",
    "#         distractor1Tokens = tokenize(train[index]['distractor1'])\n",
    "#         distractor2Tokens = tokenize(train[index]['distractor2'])\n",
    "#         distractor3Tokens = tokenize(train[index]['distractor3'])\n",
    "#         answerTokens = tokenize(train[index]['correct_answer'])\n",
    "\n",
    "        support_ids = [str(vocab.get(w, qa_data.UNK_ID)) for w in supportTokens]\n",
    "        question_ids = [str(vocab.get(w, qa_data.UNK_ID)) for w in questionTokens]\n",
    "        \n",
    "        support_data.append(' '.join(support_ids))\n",
    "        question_data.append(' '.join(question_ids))\n",
    "\n",
    "    return support_data, question_data"
   ]
  },
  {
   "cell_type": "code",
   "execution_count": 7,
   "metadata": {},
   "outputs": [],
   "source": [
    "def initialize_vocab(vocab_path):\n",
    "    if tf.gfile.Exists(vocab_path):\n",
    "        rev_vocab = []\n",
    "        with tf.gfile.GFile(vocab_path, mode=\"rb\") as f:\n",
    "            rev_vocab.extend(f.readlines())\n",
    "        rev_vocab = [line.strip('\\n') for line in rev_vocab]\n",
    "        vocab = dict([(x, y) for (y, x) in enumerate(rev_vocab)])\n",
    "        return vocab, rev_vocab\n",
    "    else:\n",
    "        raise ValueError(\"Vocabulary file %s not found.\", vocab_path)"
   ]
  },
  {
   "cell_type": "code",
   "execution_count": 8,
   "metadata": {},
   "outputs": [],
   "source": [
    "import json\n",
    "import nltk\n",
    "with open('squad/train-v1.1.json', 'r') as rf:\n",
    "    train = json.load(rf)"
   ]
  },
  {
   "cell_type": "code",
   "execution_count": null,
   "metadata": {},
   "outputs": [],
   "source": []
  }
 ],
 "metadata": {
  "kernelspec": {
   "display_name": "Python 3",
   "language": "python",
   "name": "python3"
  },
  "language_info": {
   "codemirror_mode": {
    "name": "ipython",
    "version": 3
   },
   "file_extension": ".py",
   "mimetype": "text/x-python",
   "name": "python",
   "nbconvert_exporter": "python",
   "pygments_lexer": "ipython3",
   "version": "3.6.4"
  }
 },
 "nbformat": 4,
 "nbformat_minor": 2
}
