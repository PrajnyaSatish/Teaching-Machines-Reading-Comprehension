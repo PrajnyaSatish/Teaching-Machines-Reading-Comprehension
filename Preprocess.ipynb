{
 "cells": [
  {
   "cell_type": "code",
   "execution_count": 16,
   "metadata": {},
   "outputs": [],
   "source": [
    "import json\n",
    "import nltk\n",
    "import numpy as np"
   ]
  },
  {
   "cell_type": "code",
   "execution_count": null,
   "metadata": {},
   "outputs": [],
   "source": [
    "with open('data/SciQ dataset/train.json', 'r') as rf:\n",
    "    train = json.load(rf)"
   ]
  },
  {
   "cell_type": "code",
   "execution_count": 65,
   "metadata": {},
   "outputs": [],
   "source": [
    "def tokenize(sequence):\n",
    "    tokens = [token.replace(\"``\", '\"').replace(\"''\", '\"') for token in nltk.word_tokenize(sequence)]\n",
    "#     return list(map(lambda x:x.encode('utf8'), tokens))\n",
    "    return tokens"
   ]
  },
  {
   "cell_type": "code",
   "execution_count": null,
   "metadata": {},
   "outputs": [],
   "source": [
    "## Glove stuff - Pass pretrained embeddings as input\n",
    "filename = 'data/glove.6B.50d.txt'\n",
    "def loadGloVe(filename):\n",
    "    rev_vocab = []\n",
    "    embd = []\n",
    "    file = open(filename,'r')\n",
    "    for line in file.readlines():\n",
    "        row = line.strip().split(' ')\n",
    "        rev_vocab.append(row[0])\n",
    "        embd.append(row[1:])\n",
    "    print('Loaded GloVe!')\n",
    "    file.close()\n",
    "    vocab = dict([(x, y) for (y, x) in enumerate(rev_vocab)])\n",
    "    return vocab,rev_vocab,embd\n",
    "vocab,rev_vocab,embd = loadGloVe(filename)\n",
    "vocab_size = len(vocab)\n",
    "embedding_dim = len(embd[0])\n",
    "embedding = np.asarray(embd)\n"
   ]
  },
  {
   "cell_type": "code",
   "execution_count": null,
   "metadata": {},
   "outputs": [],
   "source": [
    "supportTokens = []\n",
    "questionTokens = []\n",
    "distractor1Tokens = []\n",
    "distractor2Tokens = []\n",
    "distractor3Tokens = []\n",
    "question_embed = []\n",
    "UNK_ID = 2\n",
    "for index in range (len(train)):\n",
    "#     supportTokens = tokenize(train[index]['support'])\n",
    "    questionTokens = tokenize(train[index]['question'])\n",
    "#     distractor1Tokens = tokenize(train[index]['distractor1'])\n",
    "#     distractor2Tokens = tokenize(train[index]['distractor2'])\n",
    "#     distractor3Tokens = tokenize(train[index]['distractor3'])\n",
    "#     answerTokens = tokenize(train[index]['correct_answer'])\n",
    "    \n",
    "#     support_ids = [str(vocab.get(w, UNK_ID)) for w in supportTokens]\n",
    "    question_ids = [str(vocab.get(w, UNK_ID)) for w in questionTokens]\n",
    "#     distractor1_ids = [str(vocab.get(w, UNK_ID)) for w in distractor1Tokens]\n",
    "#     distractor2_ids = [str(vocab.get(w, UNK_ID)) for w in distractor2Tokens]\n",
    "#     distractor3_ids = [str(vocab.get(w, UNK_ID)) for w in distractor3Tokens]\n",
    "#     answer_ids = [str(vocab.get(w, UNK_ID)) for w in answerTokens]\n",
    "    \n",
    "    question_embed.append(tf.nn.embedding_lookup(W, np.array(list(vocab_processor.transform(question_ids)))))\n",
    "#     support_embed.append(tf.nn.embedding_lookup(W, np.array(list(vocab_processor.transform(support_ids)))))\n",
    "#     answer_embed = tf.nn.embedding_lookup(W, np.array(list(vocab_processor.transform(answerTokens[index]))))\n",
    "#     distractor1_embed = tf.nn.embedding_lookup(W, np.array(list(vocab_processor.transform(distractor1Tokens[index]))))\n",
    "#     distractor2_embed = tf.nn.embedding_lookup(W, np.array(list(vocab_processor.transform(distractor2Tokens[index]))))\n",
    "#     distractor3_embed = tf.nn.embedding_lookup(W, np.array(list(vocab_processor.transform(distractor3Tokens[index]))))"
   ]
  },
  {
   "cell_type": "code",
   "execution_count": 67,
   "metadata": {},
   "outputs": [
    {
     "name": "stdout",
     "output_type": "stream",
     "text": [
      "['Mesophiles', 'grow', 'best', 'in', 'moderate', 'temperature', ',', 'typically', 'between', '25°C', 'and', '40°C', '(', '77°F', 'and', '104°F', ')', '.', 'Mesophiles', 'are', 'often', 'found', 'living', 'in', 'or', 'on', 'the', 'bodies', 'of', 'humans', 'or', 'other', 'animals', '.', 'The', 'optimal', 'growth', 'temperature', 'of', 'many', 'pathogenic', 'mesophiles', 'is', '37°C', '(', '98°F', ')', ',', 'the', 'normal', 'human', 'body', 'temperature', '.', 'Mesophilic', 'organisms', 'have', 'important', 'uses', 'in', 'food', 'preparation', ',', 'including', 'cheese', ',', 'yogurt', ',', 'beer', 'and', 'wine', '.']\n"
     ]
    }
   ],
   "source": [
    "some_list = tokenize(train[0]['support'])\n",
    "print(some_list)"
   ]
  },
  {
   "cell_type": "code",
   "execution_count": null,
   "metadata": {},
   "outputs": [],
   "source": [
    "from pprint import pprint as pp\n",
    "sess = tf.Session()\n",
    "W = tf.Variable(tf.constant(0.0, shape=[vocab_size, embedding_dim]),\n",
    "                trainable=False, name=\"W\")\n",
    "embedding_placeholder = tf.placeholder(tf.float32, [vocab_size, embedding_dim])\n",
    "embedding_init = W.assign(embedding_placeholder)\n",
    "sess.run(embedding_init, feed_dict={embedding_placeholder: embedding})"
   ]
  },
  {
   "cell_type": "code",
   "execution_count": null,
   "metadata": {},
   "outputs": [],
   "source": [
    "# \n",
    "from tensorflow.contrib import learn\n",
    "#init vocab processor\n",
    "vocab_processor = learn.preprocessing.VocabularyProcessor(len(train))\n",
    "#fit the vocab from glove\n",
    "pretrain = vocab_processor.fit(rev_vocab)\n",
    "#transform inputs\n",
    "for index in range (len(train)):\n",
    "    question_embed = tf.nn.embedding_lookup(W, np.array(list(vocab_processor.transform(questionTokens[index]))))\n",
    "    support_embed = tf.nn.embedding_lookup(W, np.array(list(vocab_processor.transform(supportTokens[index]))))\n",
    "    answer_embed = tf.nn.embedding_lookup(W, np.array(list(vocab_processor.transform(answerTokens[index]))))\n",
    "    distractor1_embed = tf.nn.embedding_lookup(W, np.array(list(vocab_processor.transform(distractor1Tokens[index]))))\n",
    "    distractor2_embed = tf.nn.embedding_lookup(W, np.array(list(vocab_processor.transform(distractor2Tokens[index]))))\n",
    "    distractor3_embed = tf.nn.embedding_lookup(W, np.array(list(vocab_processor.transform(distractor3Tokens[index]))))"
   ]
  },
  {
   "cell_type": "code",
   "execution_count": 12,
   "metadata": {},
   "outputs": [],
   "source": [
    "import tensorflow as tf\n",
    "def setup_word_embeddings(embeddings, question_ids, support_ids):\n",
    "    '''\n",
    "        Create an embedding matrix (initialised with pretrained glove vectors and updated only if self.config.train_embeddings is true)\n",
    "        lookup into this matrix and apply dropout (which is 1 at test time and self.config.dropout at train time)\n",
    "    '''\n",
    "    with tf.variable_scope(\"vocab_embeddings\"):\n",
    "        _word_embeddings = tf.Variable(embeddings, name=\"_word_embeddings\", dtype=tf.float32, trainable= self.config.train_embeddings)\n",
    "        question_emb = tf.nn.embedding_lookup(_word_embeddings, question_ids, name = \"question\") # (-1, Q, D)\n",
    "        passage_emb = tf.nn.embedding_lookup(_word_embeddings, passage_ids, name = \"passage\") # (-1, P, D)\n",
    "        # Apply dropout\n",
    "        self.question = tf.nn.dropout(question_emb, self.dropout)\n"
   ]
  },
  {
   "cell_type": "code",
   "execution_count": 13,
   "metadata": {},
   "outputs": [],
   "source": [
    "## Pass tokens (question/answer/support) as input"
   ]
  },
  {
   "cell_type": "code",
   "execution_count": null,
   "metadata": {},
   "outputs": [],
   "source": []
  }
 ],
 "metadata": {
  "kernelspec": {
   "display_name": "Python 3",
   "language": "python",
   "name": "python3"
  },
  "language_info": {
   "codemirror_mode": {
    "name": "ipython",
    "version": 3
   },
   "file_extension": ".py",
   "mimetype": "text/x-python",
   "name": "python",
   "nbconvert_exporter": "python",
   "pygments_lexer": "ipython3",
   "version": "3.6.4"
  }
 },
 "nbformat": 4,
 "nbformat_minor": 2
}
