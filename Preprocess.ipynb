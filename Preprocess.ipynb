{
 "cells": [
  {
   "cell_type": "code",
   "execution_count": 2,
   "metadata": {},
   "outputs": [],
   "source": [
    "import json\n",
    "import nltk\n",
    "with open('data/SciQ dataset/train.json', 'r') as rf:\n",
    "    train = json.load(rf)"
   ]
  },
  {
   "cell_type": "code",
   "execution_count": 3,
   "metadata": {},
   "outputs": [
    {
     "data": {
      "text/plain": [
       "{'correct_answer': 'mesophilic organisms',\n",
       " 'distractor1': 'protozoa',\n",
       " 'distractor2': 'gymnosperms',\n",
       " 'distractor3': 'viruses',\n",
       " 'question': 'What type of organism is commonly used in preparation of foods such as cheese and yogurt?',\n",
       " 'support': 'Mesophiles grow best in moderate temperature, typically between 25°C and 40°C (77°F and 104°F). Mesophiles are often found living in or on the bodies of humans or other animals. The optimal growth temperature of many pathogenic mesophiles is 37°C (98°F), the normal human body temperature. Mesophilic organisms have important uses in food preparation, including cheese, yogurt, beer and wine.'}"
      ]
     },
     "execution_count": 3,
     "metadata": {},
     "output_type": "execute_result"
    }
   ],
   "source": [
    "train[0]"
   ]
  },
  {
   "cell_type": "code",
   "execution_count": 4,
   "metadata": {},
   "outputs": [],
   "source": [
    "def tokenize(sequence):\n",
    "    tokens = [token.replace(\"``\", '\"').replace(\"''\", '\"') for token in nltk.word_tokenize(sequence)]\n",
    "    return map(lambda x:x.encode('utf8'), tokens)"
   ]
  },
  {
   "cell_type": "code",
   "execution_count": 5,
   "metadata": {},
   "outputs": [],
   "source": [
    "for index in range (len(train)):\n",
    "    supportTokens = tokenize(train[index]['support'])\n",
    "    questionTokens = tokenize(train[index]['question'])\n",
    "    distractor1Tokens = tokenize(train[index]['distractor1'])\n",
    "    distractor2Tokens = tokenize(train[index]['distractor2'])\n",
    "    distractor3Tokens = tokenize(train[index]['distractor3'])\n",
    "    answerTokens = tokenize(train[index]['correct_answer'])"
   ]
  },
  {
   "cell_type": "code",
   "execution_count": 6,
   "metadata": {},
   "outputs": [],
   "source": [
    "def read_dataset(dataset, tier, vocab):\n",
    "    support_data = []\n",
    "    question_data = []\n",
    "\n",
    "    for index in range (len(train)):\n",
    "        supportTokens = tokenize(train[index]['support'])\n",
    "        questionTokens = tokenize(train[index]['question'])\n",
    "#         distractor1Tokens = tokenize(train[index]['distractor1'])\n",
    "#         distractor2Tokens = tokenize(train[index]['distractor2'])\n",
    "#         distractor3Tokens = tokenize(train[index]['distractor3'])\n",
    "#         answerTokens = tokenize(train[index]['correct_answer'])\n",
    "\n",
    "        support_ids = [str(vocab.get(w, qa_data.UNK_ID)) for w in supportTokens]\n",
    "        question_ids = [str(vocab.get(w, qa_data.UNK_ID)) for w in questionTokens]\n",
    "        \n",
    "        support_data.append(' '.join(support_ids))\n",
    "        question_data.append(' '.join(question_ids))\n",
    "\n",
    "    return support_data, question_data"
   ]
  },
  {
   "cell_type": "code",
   "execution_count": 7,
   "metadata": {},
   "outputs": [],
   "source": [
    "def initialize_vocab(vocab_path):\n",
    "    if tf.gfile.Exists(vocab_path):\n",
    "        rev_vocab = []\n",
    "        with tf.gfile.GFile(vocab_path, mode=\"rb\") as f:\n",
    "            rev_vocab.extend(f.readlines())\n",
    "        rev_vocab = [line.strip('\\n') for line in rev_vocab]\n",
    "        vocab = dict([(x, y) for (y, x) in enumerate(rev_vocab)])\n",
    "        return vocab, rev_vocab\n",
    "    else:\n",
    "        raise ValueError(\"Vocabulary file %s not found.\", vocab_path)"
   ]
  },
  {
   "cell_type": "code",
   "execution_count": 14,
   "metadata": {},
   "outputs": [
    {
     "ename": "NameError",
     "evalue": "name 'vocabulary_size' is not defined",
     "output_type": "error",
     "traceback": [
      "\u001b[0;31m---------------------------------------------------------------------------\u001b[0m",
      "\u001b[0;31mNameError\u001b[0m                                 Traceback (most recent call last)",
      "\u001b[0;32m<ipython-input-14-30d6606daacc>\u001b[0m in \u001b[0;36m<module>\u001b[0;34m()\u001b[0m\n\u001b[1;32m      1\u001b[0m \u001b[0;31m## Glove stuff - Pass pretrained embeddings as input\u001b[0m\u001b[0;34m\u001b[0m\u001b[0;34m\u001b[0m\u001b[0m\n\u001b[0;32m----> 2\u001b[0;31m \u001b[0membeddings\u001b[0m \u001b[0;34m=\u001b[0m \u001b[0mtf\u001b[0m\u001b[0;34m.\u001b[0m\u001b[0mVariable\u001b[0m\u001b[0;34m(\u001b[0m\u001b[0mtf\u001b[0m\u001b[0;34m.\u001b[0m\u001b[0mrandom_uniform\u001b[0m\u001b[0;34m(\u001b[0m\u001b[0;34m[\u001b[0m\u001b[0mvocabulary_size\u001b[0m\u001b[0;34m,\u001b[0m \u001b[0membedding_size\u001b[0m\u001b[0;34m]\u001b[0m\u001b[0;34m,\u001b[0m \u001b[0;34m-\u001b[0m\u001b[0;36m1.0\u001b[0m\u001b[0;34m,\u001b[0m \u001b[0;36m1.0\u001b[0m\u001b[0;34m)\u001b[0m\u001b[0;34m)\u001b[0m\u001b[0;34m\u001b[0m\u001b[0m\n\u001b[0m",
      "\u001b[0;31mNameError\u001b[0m: name 'vocabulary_size' is not defined"
     ]
    }
   ],
   "source": [
    "## Glove stuff - Pass pretrained embeddings as input\n",
    "embeddings = tf.Variable(tf.random_uniform([vocabulary_size, embedding_size], -1.0, 1.0))"
   ]
  },
  {
   "cell_type": "code",
   "execution_count": 12,
   "metadata": {},
   "outputs": [],
   "source": [
    "\n",
    "import tensorflow as tf\n",
    "def setup_word_embeddings(embeddings, question_ids, support_ids):\n",
    "    '''\n",
    "        Create an embedding matrix (initialised with pretrained glove vectors and updated only if self.config.train_embeddings is true)\n",
    "        lookup into this matrix and apply dropout (which is 1 at test time and self.config.dropout at train time)\n",
    "    '''\n",
    "    with tf.variable_scope(\"vocab_embeddings\"):\n",
    "        _word_embeddings = tf.Variable(embeddings, name=\"_word_embeddings\", dtype=tf.float32, trainable= self.config.train_embeddings)\n",
    "        question_emb = tf.nn.embedding_lookup(_word_embeddings, question_ids, name = \"question\") # (-1, Q, D)\n",
    "        passage_emb = tf.nn.embedding_lookup(_word_embeddings, passage_ids, name = \"passage\") # (-1, P, D)\n",
    "        # Apply dropout\n",
    "        self.question = tf.nn.dropout(question_emb, self.dropout)\n"
   ]
  },
  {
   "cell_type": "code",
   "execution_count": 13,
   "metadata": {},
   "outputs": [],
   "source": [
    "## Pass tokens (question/answer/support) as input"
   ]
  },
  {
   "cell_type": "code",
   "execution_count": null,
   "metadata": {},
   "outputs": [],
   "source": []
  }
 ],
 "metadata": {
  "kernelspec": {
   "display_name": "Python 3",
   "language": "python",
   "name": "python3"
  },
  "language_info": {
   "codemirror_mode": {
    "name": "ipython",
    "version": 3
   },
   "file_extension": ".py",
   "mimetype": "text/x-python",
   "name": "python",
   "nbconvert_exporter": "python",
   "pygments_lexer": "ipython3",
   "version": "3.6.4"
  }
 },
 "nbformat": 4,
 "nbformat_minor": 2
}
