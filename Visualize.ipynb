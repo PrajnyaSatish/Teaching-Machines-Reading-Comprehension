{
 "cells": [
  {
   "cell_type": "code",
   "execution_count": 1,
   "metadata": {
    "scrolled": true
   },
   "outputs": [
    {
     "name": "stderr",
     "output_type": "stream",
     "text": [
      "Using TensorFlow backend.\n"
     ]
    }
   ],
   "source": [
    "from matplotlib import pyplot as plt\n",
    "from keras.models import model_from_json\n",
    "import json\n",
    "\n",
    "import keras\n",
    "from functools import reduce\n",
    "import re\n",
    "import numpy as np\n",
    "import nltk\n",
    "import json\n",
    "from pprint import pprint as pp\n",
    "\n",
    "from keras.utils.data_utils import get_file\n",
    "from keras.layers.embeddings import Embedding\n",
    "from keras import layers\n",
    "from keras.layers import LSTM\n",
    "from keras.models import Model\n",
    "from keras.preprocessing.sequence import pad_sequences\n",
    "from keras.utils import plot_model"
   ]
  },
  {
   "cell_type": "code",
   "execution_count": 8,
   "metadata": {},
   "outputs": [
    {
     "name": "stdout",
     "output_type": "stream",
     "text": [
      "Loaded model from disk\n"
     ]
    }
   ],
   "source": [
    "json_file = open('Model_Files/model_2_epochs_json.json', 'r')\n",
    "loaded_model_json = json_file.read()\n",
    "json_file.close()\n",
    "model = model_from_json(loaded_model_json)\n",
    "# load weights into new model\n",
    "model.load_weights(\"Model_Files/model_2_epochs.h5\")\n",
    "print(\"Loaded model from disk\")"
   ]
  },
  {
   "cell_type": "code",
   "execution_count": 9,
   "metadata": {},
   "outputs": [],
   "source": [
    "def tokenize(sent):\n",
    "    \"\"\"Returns the tokens of a sequece\"\"\"\n",
    "    tokens = nltk.word_tokenize(sent)\n",
    "    tokens = [w.lower() for w in tokens]\n",
    "    return tokens"
   ]
  },
  {
   "cell_type": "code",
   "execution_count": 10,
   "metadata": {},
   "outputs": [],
   "source": [
    "with open('data/SciQ dataset/train.json', 'r') as rf:\n",
    "    train = json.load(rf)\n",
    "with open('data/SciQ dataset/test.json', 'r') as rf:\n",
    "    test = json.load(rf)\n",
    "with open('data/SciQ dataset/valid.json', 'r') as rf:\n",
    "    valid = json.load(rf)"
   ]
  },
  {
   "cell_type": "code",
   "execution_count": 11,
   "metadata": {},
   "outputs": [],
   "source": [
    "from random import shuffle\n",
    "\n",
    "def preprocess(data_in):\n",
    "    q = []\n",
    "    s = []\n",
    "    o = []\n",
    "    l = []\n",
    "    for sample in data_in:\n",
    "        question = sample['question']\n",
    "        support = sample['support']\n",
    "        option1 = (sample['distractor1'], -1)\n",
    "        option2 = (sample['distractor2'], -1)\n",
    "        option3 = (sample['distractor3'], -1)\n",
    "        option4 = (sample['correct_answer'], 1)\n",
    "        options = [option1, option2, option3, option4]\n",
    "        shuffle(options)\n",
    "        q.append(question)\n",
    "        s.append(support)\n",
    "        o.append(tuple(op for op,_ in options))\n",
    "        l.append(tuple(label for _, label in options))\n",
    "    X = {'questions': q, 'support': s, 'options': o}\n",
    "    return X, l"
   ]
  },
  {
   "cell_type": "code",
   "execution_count": 12,
   "metadata": {},
   "outputs": [],
   "source": [
    "def get_vectors(input_sent, vocab, vocab_list):\n",
    "    tokenized = tokenize(input_sent)\n",
    "    vectorized = []\n",
    "    for w in tokenized:\n",
    "        if w in vocab_list:\n",
    "            vectorized.append(vocab[w])\n",
    "        else:\n",
    "            vectorized.append(vocab['UNK_ID'])\n",
    "    return vectorized"
   ]
  },
  {
   "cell_type": "code",
   "execution_count": 13,
   "metadata": {},
   "outputs": [],
   "source": [
    "def vectorize_input(X, y, vocab, vocab_size, support_maxlen, query_maxlen):\n",
    "    op1 = []\n",
    "    op2 = []\n",
    "    op3 = []\n",
    "    op4 = []\n",
    "    l1 = []; l2 = []; l3 = []; l4 = []\n",
    "    for label_list in y:\n",
    "        l1.append(label_list[0])\n",
    "        l2.append(label_list[1])\n",
    "        l3.append(label_list[2])\n",
    "        l4.append(label_list[3])\n",
    "    labels = [np.array(l1),np.array(l2),np.array(l3),np.array(l4)]\n",
    "    qs = [get_vectors(sent, vocab, vocab_list) for sent in X['questions']]\n",
    "    sps = [get_vectors(sent, vocab, vocab_list) for sent in X['support']]\n",
    "    for sample_options in X['options']:\n",
    "        op1.append(get_vectors(sample_options[0], vocab, vocab_list))\n",
    "        op2.append(get_vectors(sample_options[1], vocab, vocab_list))\n",
    "        op3.append(get_vectors(sample_options[2], vocab, vocab_list))\n",
    "        op4.append(get_vectors(sample_options[3], vocab, vocab_list))\n",
    "    return(pad_sequences(qs, maxlen=query_maxlen),\\\n",
    "           pad_sequences(sps, maxlen=support_maxlen),\\\n",
    "           pad_sequences(op1, maxlen=query_maxlen),\\\n",
    "           pad_sequences(op2, maxlen=query_maxlen),\\\n",
    "           pad_sequences(op3, maxlen=query_maxlen),\\\n",
    "           pad_sequences(op4, maxlen=query_maxlen),\\\n",
    "           labels\n",
    "          )"
   ]
  },
  {
   "cell_type": "code",
   "execution_count": 14,
   "metadata": {},
   "outputs": [
    {
     "name": "stdout",
     "output_type": "stream",
     "text": [
      "Vocab ready\n"
     ]
    }
   ],
   "source": [
    "def createVocab(input_data):\n",
    "    vocab_list = set()\n",
    "    for sample in input_data:\n",
    "        s_t = tokenize(sample['support'])\n",
    "        q_t = tokenize(sample['question'])\n",
    "        d1_t = tokenize(sample['distractor1'])\n",
    "        d2_t = tokenize(sample['distractor2'])\n",
    "        d3_t = tokenize(sample['distractor3'])\n",
    "        a_t = tokenize(sample['correct_answer'])\n",
    "        vocab_list |= set(s_t+q_t+d1_t+d2_t+d3_t+a_t)\n",
    "    vocab_list=sorted(vocab_list)\n",
    "    vocab_size = len(vocab_list)+3\n",
    "    vocab = dict((c,i+2) for i,c in enumerate(vocab_list))\n",
    "    print(\"Vocab ready\")\n",
    "    return vocab_list, vocab_size, vocab\n",
    "vocab_list, vocab_size, vocab = createVocab(train+valid+test)"
   ]
  },
  {
   "cell_type": "code",
   "execution_count": 15,
   "metadata": {},
   "outputs": [],
   "source": [
    "EMBED_SIZE = 300\n",
    "Q_HIDDEN_SIZE = 100\n",
    "S_HIDDEN_SIZE = 300\n",
    "BATCH_SIZE = 32\n",
    "EPOCHS = 40\n",
    "X_valid, y_valid = preprocess(valid)\n",
    "vq,vs,vd1,vd2,vd3,vd4,va = vectorize_input(X_valid, y_valid, vocab, vocab_size, S_HIDDEN_SIZE, Q_HIDDEN_SIZE)\n",
    "p_op1,p_op2, p_op3, p_op4 = model.predict([vs,vq, vd1,vd2,vd3,vd4])"
   ]
  },
  {
   "cell_type": "code",
   "execution_count": 16,
   "metadata": {},
   "outputs": [],
   "source": [
    "predictions = [[o1,o2,o3,o4] for o1,o2,o3,o4 in zip(p_op1,p_op2,p_op3,p_op4)]"
   ]
  },
  {
   "cell_type": "code",
   "execution_count": 17,
   "metadata": {},
   "outputs": [
    {
     "name": "stdout",
     "output_type": "stream",
     "text": [
      "0.0\n"
     ]
    }
   ],
   "source": [
    "def threshold_acc(predictions, y_valid):\n",
    "    correct_count = 0\n",
    "    threshold = 0\n",
    "    for sample_ind, sample_y in enumerate(y_valid):\n",
    "        for ind,op in enumerate(sample_y):\n",
    "            if op==1 and predictions[sample_ind][ind]>threshold:\n",
    "                correct_count+=1\n",
    "    return 100*correct_count/float(len(y_valid))\n",
    "print(threshold_acc(predictions,y_valid))"
   ]
  },
  {
   "cell_type": "code",
   "execution_count": 18,
   "metadata": {},
   "outputs": [],
   "source": [
    "def get_predicted_labels(predictions):\n",
    "    predicted_labels = []\n",
    "    for pred in predictions:\n",
    "        ans_labels = [-1]*4\n",
    "        ans_label_ind = pred.index(max(pred))\n",
    "        ans_labels[ans_label_ind]=1\n",
    "        predicted_labels.append(tuple(ans_labels))\n",
    "    return predicted_labels"
   ]
  },
  {
   "cell_type": "code",
   "execution_count": 19,
   "metadata": {},
   "outputs": [
    {
     "name": "stdout",
     "output_type": "stream",
     "text": [
      "25.8\n"
     ]
    }
   ],
   "source": [
    "def highest_val_correct_acc(predictions, y_valid):\n",
    "    correct_count = 0\n",
    "    y_pred = get_predicted_labels(predictions)\n",
    "    for y_t, y_p in zip(y_valid, y_pred):\n",
    "        if y_t==y_p:\n",
    "            correct_count+=1\n",
    "    return 100*correct_count/float(len(y_valid))\n",
    "print(highest_val_correct_acc(predictions, y_valid))"
   ]
  },
  {
   "cell_type": "code",
   "execution_count": null,
   "metadata": {},
   "outputs": [],
   "source": [
    "X, y = preprocess(train)\n",
    "q,s,d1,d2,d3,d4,a = vectorize_input(X, y, vocab, vocab_size, S_HIDDEN_SIZE, Q_HIDDEN_SIZE)\n",
    "p_op1,p_op2, p_op3, p_op4 = model.predict([s,q,d1,d2,d3,d4])"
   ]
  }
 ],
 "metadata": {
  "kernelspec": {
   "display_name": "Python 3",
   "language": "python",
   "name": "python3"
  },
  "language_info": {
   "codemirror_mode": {
    "name": "ipython",
    "version": 3
   },
   "file_extension": ".py",
   "mimetype": "text/x-python",
   "name": "python",
   "nbconvert_exporter": "python",
   "pygments_lexer": "ipython3",
   "version": "3.6.4"
  }
 },
 "nbformat": 4,
 "nbformat_minor": 2
}
