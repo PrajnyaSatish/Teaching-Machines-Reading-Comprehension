{
 "cells": [
  {
   "cell_type": "code",
   "execution_count": null,
   "metadata": {},
   "outputs": [],
   "source": [
    "import keras\n",
    "from functools import reduce\n",
    "import re\n",
    "import numpy as np\n",
    "import nltk\n",
    "import json\n",
    "from pprint import pprint as pp\n",
    "\n",
    "from keras.utils.data_utils import get_file\n",
    "from keras.layers.embeddings import Embedding\n",
    "from keras import layers\n",
    "from keras.layers import LSTM\n",
    "from keras.models import Model\n",
    "from keras.preprocessing.sequence import pad_sequences\n",
    "from keras.utils import plot_model"
   ]
  },
  {
   "cell_type": "code",
   "execution_count": 2,
   "metadata": {},
   "outputs": [],
   "source": [
    "def tokenize(sent):\n",
    "    \"\"\"Returns the tokens of a sequece\"\"\"\n",
    "    tokens = nltk.word_tokenize(sent)\n",
    "    tokens = [w.lower() for w in tokens]\n",
    "    return tokens"
   ]
  },
  {
   "cell_type": "code",
   "execution_count": 3,
   "metadata": {},
   "outputs": [],
   "source": [
    "with open('data/SciQ dataset/train.json', 'r') as rf:\n",
    "    train = json.load(rf)\n",
    "with open('data/SciQ dataset/test.json', 'r') as rf:\n",
    "    test = json.load(rf)\n",
    "with open('data/SciQ dataset/valid.json', 'r') as rf:\n",
    "    valid = json.load(rf)"
   ]
  },
  {
   "cell_type": "code",
   "execution_count": 4,
   "metadata": {},
   "outputs": [],
   "source": [
    "from random import shuffle\n",
    "\n",
    "def preprocess(data_in):\n",
    "    q = []\n",
    "    s = []\n",
    "    o = []\n",
    "    l = []\n",
    "    for sample in data_in:\n",
    "        question = sample['question']\n",
    "        support = sample['support']\n",
    "        option1 = (sample['distractor1'], -1)\n",
    "        option2 = (sample['distractor2'], -1)\n",
    "        option3 = (sample['distractor3'], -1)\n",
    "        option4 = (sample['correct_answer'], 1)\n",
    "        options = [option1, option2, option3, option4]\n",
    "        shuffle(options)\n",
    "        q.append(question)\n",
    "        s.append(support)\n",
    "        o.append(tuple(op for op,_ in options))\n",
    "        l.append(tuple(label for _, label in options))\n",
    "    X = {'questions': q, 'support': s, 'options': o}\n",
    "    return X, l"
   ]
  },
  {
   "cell_type": "code",
   "execution_count": 7,
   "metadata": {},
   "outputs": [],
   "source": [
    "def createVocab(input_data):\n",
    "    vocab_list = set()\n",
    "    for sample in input_data:\n",
    "        s_t = tokenize(sample['support'])\n",
    "        q_t = tokenize(sample['question'])\n",
    "        d1_t = tokenize(sample['distractor1'])\n",
    "        d2_t = tokenize(sample['distractor2'])\n",
    "        d3_t = tokenize(sample['distractor3'])\n",
    "        a_t = tokenize(sample['correct_answer'])\n",
    "        vocab_list |= set(s_t+q_t+d1_t+d2_t+d3_t+a_t)\n",
    "    vocab_list=sorted(vocab_list)\n",
    "    vocab_size = len(vocab_list)+3\n",
    "    vocab = dict((c,i+2) for i,c in enumerate(vocab_list))\n",
    "    print(\"Vocab ready\")\n",
    "    return vocab_list, vocab_size, vocab"
   ]
  },
  {
   "cell_type": "code",
   "execution_count": 8,
   "metadata": {},
   "outputs": [
    {
     "name": "stdout",
     "output_type": "stream",
     "text": [
      "Vocab ready\n"
     ]
    }
   ],
   "source": [
    "vocab_list, vocab_size, vocab = createVocab(train+valid+test)"
   ]
  },
  {
   "cell_type": "code",
   "execution_count": 9,
   "metadata": {},
   "outputs": [],
   "source": [
    "def get_vectors(input_sent, vocab, vocab_list):\n",
    "    tokenized = tokenize(input_sent)\n",
    "    vectorized = []\n",
    "    for w in tokenized:\n",
    "        if w in vocab_list:\n",
    "            vectorized.append(vocab[w])\n",
    "        else:\n",
    "            vectorized.append(vocab['UNK_ID'])\n",
    "    return vectorized"
   ]
  },
  {
   "cell_type": "code",
   "execution_count": 10,
   "metadata": {},
   "outputs": [],
   "source": [
    "def vectorize_input(X, y, vocab, vocab_size, support_maxlen, query_maxlen):\n",
    "    op1 = []\n",
    "    op2 = []\n",
    "    op3 = []\n",
    "    op4 = []\n",
    "    labels = [np.asarray(l_list) for l_list in y]\n",
    "    qs = [get_vectors(sent, vocab, vocab_list) for sent in X['questions']]\n",
    "    sps = [get_vectors(sent, vocab, vocab_list) for sent in X['support']]\n",
    "    for sample_options in X['options']:\n",
    "        op1.append(get_vectors(sample_options[0], vocab, vocab_list))\n",
    "        op2.append(get_vectors(sample_options[1], vocab, vocab_list))\n",
    "        op3.append(get_vectors(sample_options[2], vocab, vocab_list))\n",
    "        op4.append(get_vectors(sample_options[3], vocab, vocab_list))\n",
    "    return(pad_sequences(qs, maxlen=query_maxlen),\\\n",
    "           pad_sequences(sps, maxlen=support_maxlen),\\\n",
    "           pad_sequences(op1, maxlen=query_maxlen),\\\n",
    "           pad_sequences(op2, maxlen=query_maxlen),\\\n",
    "           pad_sequences(op3, maxlen=query_maxlen),\\\n",
    "           pad_sequences(op4, maxlen=query_maxlen),\\\n",
    "           pad_sequences(labels, 4)\n",
    "          )"
   ]
  },
  {
   "cell_type": "code",
   "execution_count": 11,
   "metadata": {},
   "outputs": [
    {
     "name": "stdout",
     "output_type": "stream",
     "text": [
      "LSTM/EMBED/SUPPORT/QUERY=<class 'keras.layers.recurrent.LSTM'>,300,300,100\n"
     ]
    }
   ],
   "source": [
    "EMBED_SIZE = 300\n",
    "Q_HIDDEN_SIZE = 100\n",
    "S_HIDDEN_SIZE = 300\n",
    "BATCH_SIZE = 32\n",
    "EPOCHS = 40\n",
    "print('LSTM/EMBED/SUPPORT/QUERY={0},{1},{2},{3}'.format(LSTM,\n",
    "                                                    EMBED_SIZE,\n",
    "                                                    S_HIDDEN_SIZE,\n",
    "                                                    Q_HIDDEN_SIZE))\n"
   ]
  },
  {
   "cell_type": "code",
   "execution_count": 12,
   "metadata": {},
   "outputs": [],
   "source": [
    "support = layers.Input(shape=(S_HIDDEN_SIZE,), dtype='int32', name='support_input')\n",
    "encoded_support = layers.Embedding(vocab_size, EMBED_SIZE)(support)\n",
    "encoded_support = layers.Dropout(0.3)(encoded_support)\n",
    "support_LSTM = LSTM(EMBED_SIZE)(encoded_support)\n",
    "support_LSTM = layers.RepeatVector(S_HIDDEN_SIZE)(support_LSTM)"
   ]
  },
  {
   "cell_type": "code",
   "execution_count": 13,
   "metadata": {},
   "outputs": [],
   "source": [
    "question = layers.Input(shape=(Q_HIDDEN_SIZE,), dtype='int32', name='question_input')\n",
    "encoded_question = layers.Embedding(vocab_size, EMBED_SIZE)(question)\n",
    "encoded_question = layers.Dropout(0.3)(encoded_question)\n",
    "question_LSTM = LSTM(EMBED_SIZE)(encoded_question)\n",
    "question_LSTM = layers.RepeatVector(S_HIDDEN_SIZE)(question_LSTM)"
   ]
  },
  {
   "cell_type": "code",
   "execution_count": 14,
   "metadata": {},
   "outputs": [],
   "source": [
    "distractor1 = layers.Input(shape=(Q_HIDDEN_SIZE,), dtype='int32', name='d1_input')\n",
    "encoded_distractor1 = layers.Embedding(vocab_size, EMBED_SIZE)(distractor1)\n",
    "encoded_distractor1 = layers.Dropout(0.3)(encoded_distractor1)\n",
    "distractor1_LSTM = LSTM(EMBED_SIZE)(encoded_distractor1)"
   ]
  },
  {
   "cell_type": "code",
   "execution_count": 15,
   "metadata": {},
   "outputs": [],
   "source": [
    "distractor2 = layers.Input(shape=(Q_HIDDEN_SIZE,), dtype='int32')\n",
    "encoded_distractor2 = layers.Embedding(vocab_size, EMBED_SIZE)(distractor2)\n",
    "encoded_distractor2 = layers.Dropout(0.3)(encoded_distractor2)\n",
    "distractor2_LSTM = LSTM(EMBED_SIZE)(encoded_distractor2)"
   ]
  },
  {
   "cell_type": "code",
   "execution_count": 16,
   "metadata": {},
   "outputs": [],
   "source": [
    "distractor3 = layers.Input(shape=(Q_HIDDEN_SIZE,), dtype='int32')\n",
    "encoded_distractor3 = layers.Embedding(vocab_size, EMBED_SIZE)(distractor3)\n",
    "encoded_distractor3 = layers.Dropout(0.3)(encoded_distractor3)\n",
    "distractor3_LSTM = LSTM(EMBED_SIZE)(encoded_distractor3)"
   ]
  },
  {
   "cell_type": "code",
   "execution_count": 17,
   "metadata": {},
   "outputs": [],
   "source": [
    "distractor4 = layers.Input(shape=(Q_HIDDEN_SIZE,), dtype='int32')\n",
    "encoded_distractor4 = layers.Embedding(vocab_size, EMBED_SIZE)(distractor4)\n",
    "encoded_distractor4 = layers.Dropout(0.3)(encoded_distractor4)\n",
    "distractor4_LSTM = LSTM(EMBED_SIZE)(encoded_distractor4)"
   ]
  },
  {
   "cell_type": "code",
   "execution_count": 18,
   "metadata": {},
   "outputs": [
    {
     "name": "stdout",
     "output_type": "stream",
     "text": [
      "Tensor(\"dense_1/Softmax:0\", shape=(?, 4), dtype=float32)\n"
     ]
    }
   ],
   "source": [
    "MatchLSTM_layer = layers.add([support_LSTM, question_LSTM])\n",
    "option1_match = layers.add([MatchLSTM_layer, distractor1_LSTM])\n",
    "option2_match = layers.add([MatchLSTM_layer, distractor2_LSTM])\n",
    "option3_match = layers.add([MatchLSTM_layer, distractor3_LSTM])\n",
    "option4_match = layers.add([MatchLSTM_layer, distractor4_LSTM])\n",
    "merged = layers.add([option1_match , option2_match, option3_match, option4_match])\n",
    "ranker_LSTM = LSTM(EMBED_SIZE)(merged)\n",
    "ranker_LSTM = layers.Dropout(0.3)(ranker_LSTM)\n",
    "predictions = layers.Dense(4, activation='softmax')(ranker_LSTM)\n",
    "print(predictions)"
   ]
  },
  {
   "cell_type": "code",
   "execution_count": 19,
   "metadata": {},
   "outputs": [
    {
     "name": "stdout",
     "output_type": "stream",
     "text": [
      "Tensor(\"dense_1/Softmax:0\", shape=(?, 4), dtype=float32)\n"
     ]
    }
   ],
   "source": [
    "print(predictions)"
   ]
  },
  {
   "cell_type": "code",
   "execution_count": 20,
   "metadata": {
    "scrolled": false
   },
   "outputs": [
    {
     "name": "stdout",
     "output_type": "stream",
     "text": [
      "__________________________________________________________________________________________________\n",
      "Layer (type)                    Output Shape         Param #     Connected to                     \n",
      "==================================================================================================\n",
      "support_input (InputLayer)      (None, 300)          0                                            \n",
      "__________________________________________________________________________________________________\n",
      "question_input (InputLayer)     (None, 100)          0                                            \n",
      "__________________________________________________________________________________________________\n",
      "embedding_1 (Embedding)         (None, 300, 300)     9234600     support_input[0][0]              \n",
      "__________________________________________________________________________________________________\n",
      "embedding_2 (Embedding)         (None, 100, 300)     9234600     question_input[0][0]             \n",
      "__________________________________________________________________________________________________\n",
      "dropout_1 (Dropout)             (None, 300, 300)     0           embedding_1[0][0]                \n",
      "__________________________________________________________________________________________________\n",
      "dropout_2 (Dropout)             (None, 100, 300)     0           embedding_2[0][0]                \n",
      "__________________________________________________________________________________________________\n",
      "d1_input (InputLayer)           (None, 100)          0                                            \n",
      "__________________________________________________________________________________________________\n",
      "input_1 (InputLayer)            (None, 100)          0                                            \n",
      "__________________________________________________________________________________________________\n",
      "input_2 (InputLayer)            (None, 100)          0                                            \n",
      "__________________________________________________________________________________________________\n",
      "input_3 (InputLayer)            (None, 100)          0                                            \n",
      "__________________________________________________________________________________________________\n",
      "lstm_1 (LSTM)                   (None, 300)          721200      dropout_1[0][0]                  \n",
      "__________________________________________________________________________________________________\n",
      "lstm_2 (LSTM)                   (None, 300)          721200      dropout_2[0][0]                  \n",
      "__________________________________________________________________________________________________\n",
      "embedding_3 (Embedding)         (None, 100, 300)     9234600     d1_input[0][0]                   \n",
      "__________________________________________________________________________________________________\n",
      "embedding_4 (Embedding)         (None, 100, 300)     9234600     input_1[0][0]                    \n",
      "__________________________________________________________________________________________________\n",
      "embedding_5 (Embedding)         (None, 100, 300)     9234600     input_2[0][0]                    \n",
      "__________________________________________________________________________________________________\n",
      "embedding_6 (Embedding)         (None, 100, 300)     9234600     input_3[0][0]                    \n",
      "__________________________________________________________________________________________________\n",
      "repeat_vector_1 (RepeatVector)  (None, 300, 300)     0           lstm_1[0][0]                     \n",
      "__________________________________________________________________________________________________\n",
      "repeat_vector_2 (RepeatVector)  (None, 300, 300)     0           lstm_2[0][0]                     \n",
      "__________________________________________________________________________________________________\n",
      "dropout_3 (Dropout)             (None, 100, 300)     0           embedding_3[0][0]                \n",
      "__________________________________________________________________________________________________\n",
      "dropout_4 (Dropout)             (None, 100, 300)     0           embedding_4[0][0]                \n",
      "__________________________________________________________________________________________________\n",
      "dropout_5 (Dropout)             (None, 100, 300)     0           embedding_5[0][0]                \n",
      "__________________________________________________________________________________________________\n",
      "dropout_6 (Dropout)             (None, 100, 300)     0           embedding_6[0][0]                \n",
      "__________________________________________________________________________________________________\n",
      "add_1 (Add)                     (None, 300, 300)     0           repeat_vector_1[0][0]            \n",
      "                                                                 repeat_vector_2[0][0]            \n",
      "__________________________________________________________________________________________________\n",
      "lstm_3 (LSTM)                   (None, 300)          721200      dropout_3[0][0]                  \n",
      "__________________________________________________________________________________________________\n",
      "lstm_4 (LSTM)                   (None, 300)          721200      dropout_4[0][0]                  \n",
      "__________________________________________________________________________________________________\n",
      "lstm_5 (LSTM)                   (None, 300)          721200      dropout_5[0][0]                  \n",
      "__________________________________________________________________________________________________\n",
      "lstm_6 (LSTM)                   (None, 300)          721200      dropout_6[0][0]                  \n",
      "__________________________________________________________________________________________________\n",
      "add_2 (Add)                     (None, 300, 300)     0           add_1[0][0]                      \n",
      "                                                                 lstm_3[0][0]                     \n",
      "__________________________________________________________________________________________________\n",
      "add_3 (Add)                     (None, 300, 300)     0           add_1[0][0]                      \n",
      "                                                                 lstm_4[0][0]                     \n",
      "__________________________________________________________________________________________________\n",
      "add_4 (Add)                     (None, 300, 300)     0           add_1[0][0]                      \n",
      "                                                                 lstm_5[0][0]                     \n",
      "__________________________________________________________________________________________________\n",
      "add_5 (Add)                     (None, 300, 300)     0           add_1[0][0]                      \n",
      "                                                                 lstm_6[0][0]                     \n",
      "__________________________________________________________________________________________________\n",
      "add_6 (Add)                     (None, 300, 300)     0           add_2[0][0]                      \n",
      "                                                                 add_3[0][0]                      \n",
      "                                                                 add_4[0][0]                      \n",
      "                                                                 add_5[0][0]                      \n",
      "__________________________________________________________________________________________________\n",
      "lstm_7 (LSTM)                   (None, 300)          721200      add_6[0][0]                      \n",
      "__________________________________________________________________________________________________\n",
      "dropout_7 (Dropout)             (None, 300)          0           lstm_7[0][0]                     \n",
      "__________________________________________________________________________________________________\n",
      "dense_1 (Dense)                 (None, 4)            1204        dropout_7[0][0]                  \n",
      "==================================================================================================\n",
      "Total params: 60,457,204\n",
      "Trainable params: 60,457,204\n",
      "Non-trainable params: 0\n",
      "__________________________________________________________________________________________________\n",
      "None\n"
     ]
    },
    {
     "ename": "NameError",
     "evalue": "name 'plot_model' is not defined",
     "output_type": "error",
     "traceback": [
      "\u001b[0;31m---------------------------------------------------------------------------\u001b[0m",
      "\u001b[0;31mNameError\u001b[0m                                 Traceback (most recent call last)",
      "\u001b[0;32m<ipython-input-20-60e4cae5cb00>\u001b[0m in \u001b[0;36m<module>\u001b[0;34m()\u001b[0m\n\u001b[1;32m      1\u001b[0m \u001b[0mmodel\u001b[0m \u001b[0;34m=\u001b[0m \u001b[0mModel\u001b[0m\u001b[0;34m(\u001b[0m\u001b[0;34m[\u001b[0m\u001b[0msupport\u001b[0m\u001b[0;34m,\u001b[0m \u001b[0mquestion\u001b[0m\u001b[0;34m,\u001b[0m \u001b[0mdistractor1\u001b[0m\u001b[0;34m,\u001b[0m \u001b[0mdistractor2\u001b[0m\u001b[0;34m,\u001b[0m \u001b[0mdistractor3\u001b[0m\u001b[0;34m,\u001b[0m \u001b[0mdistractor4\u001b[0m\u001b[0;34m]\u001b[0m\u001b[0;34m,\u001b[0m \u001b[0mpredictions\u001b[0m\u001b[0;34m)\u001b[0m\u001b[0;34m\u001b[0m\u001b[0m\n\u001b[1;32m      2\u001b[0m \u001b[0mprint\u001b[0m\u001b[0;34m(\u001b[0m\u001b[0mmodel\u001b[0m\u001b[0;34m.\u001b[0m\u001b[0msummary\u001b[0m\u001b[0;34m(\u001b[0m\u001b[0;34m)\u001b[0m\u001b[0;34m)\u001b[0m\u001b[0;34m\u001b[0m\u001b[0m\n\u001b[0;32m----> 3\u001b[0;31m \u001b[0mplot_model\u001b[0m\u001b[0;34m(\u001b[0m\u001b[0mmodel\u001b[0m\u001b[0;34m,\u001b[0m \u001b[0mto_file\u001b[0m\u001b[0;34m=\u001b[0m\u001b[0;34m'Final_Model.png'\u001b[0m\u001b[0;34m)\u001b[0m\u001b[0;34m\u001b[0m\u001b[0m\n\u001b[0m",
      "\u001b[0;31mNameError\u001b[0m: name 'plot_model' is not defined"
     ]
    }
   ],
   "source": [
    "model = Model([support, question, distractor1, distractor2, distractor3, distractor4], predictions)\n",
    "print(model.summary())\n",
    "plot_model(model, to_file='Final_Model.png')"
   ]
  },
  {
   "cell_type": "code",
   "execution_count": 21,
   "metadata": {},
   "outputs": [],
   "source": [
    "model.compile(optimizer='adam',\n",
    "             loss='categorical_crossentropy',\n",
    "             metrics=['accuracy'])"
   ]
  },
  {
   "cell_type": "code",
   "execution_count": null,
   "metadata": {},
   "outputs": [
    {
     "name": "stdout",
     "output_type": "stream",
     "text": [
      "Training\n"
     ]
    }
   ],
   "source": [
    "print('Training')\n",
    "X,y = preprocess(train)\n",
    "q,s,d1,d2,d3, d4,a = vectorize_input(X, y, vocab, vocab_size, S_HIDDEN_SIZE, Q_HIDDEN_SIZE)\n",
    "\n",
    "model.fit([s,q, d1,d2,d3,d4], a,\n",
    "         batch_size=BATCH_SIZE,\n",
    "         epochs=EPOCHS)"
   ]
  },
  {
   "cell_type": "code",
   "execution_count": null,
   "metadata": {},
   "outputs": [],
   "source": [
    "X_valid, y_valid = preprocess(valid)\n",
    "vq,vs,vd1,vd2,vd3, vd4, va = vectorize_input(X_valid, y_valid, vocab, vocab_size, S_HIDDEN_SIZE, Q_HIDDEN_SIZE)\n",
    "loss, acc = model.evaluate([vs,vq,vd1,vd2,vd3, vd4], va,\n",
    "                         batch_size=BATCH_SIZE)\n",
    "print('Test loss / test accuracy = {:.4f} / {:.4f}'.format(loss, acc))"
   ]
  }
 ],
 "metadata": {
  "kernelspec": {
   "display_name": "Python 3",
   "language": "python",
   "name": "python3"
  },
  "language_info": {
   "codemirror_mode": {
    "name": "ipython",
    "version": 3
   },
   "file_extension": ".py",
   "mimetype": "text/x-python",
   "name": "python",
   "nbconvert_exporter": "python",
   "pygments_lexer": "ipython3",
   "version": "3.6.4"
  }
 },
 "nbformat": 4,
 "nbformat_minor": 2
}
